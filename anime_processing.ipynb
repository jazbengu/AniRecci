{
  "nbformat": 4,
  "nbformat_minor": 0,
  "metadata": {
    "colab": {
      "provenance": []
    },
    "kernelspec": {
      "name": "python3",
      "display_name": "Python 3"
    },
    "language_info": {
      "name": "python"
    }
  },
  "cells": [
    {
      "cell_type": "code",
      "source": [
        "!pip install requests pandas\n"
      ],
      "metadata": {
        "colab": {
          "base_uri": "https://localhost:8080/"
        },
        "id": "Gjw2IyhVFr5F",
        "outputId": "b355f820-bc67-4810-8e84-b38f77efd490"
      },
      "execution_count": null,
      "outputs": [
        {
          "output_type": "stream",
          "name": "stdout",
          "text": [
            "Requirement already satisfied: requests in /usr/local/lib/python3.10/dist-packages (2.32.3)\n",
            "Requirement already satisfied: pandas in /usr/local/lib/python3.10/dist-packages (2.2.2)\n",
            "Requirement already satisfied: charset-normalizer<4,>=2 in /usr/local/lib/python3.10/dist-packages (from requests) (3.4.0)\n",
            "Requirement already satisfied: idna<4,>=2.5 in /usr/local/lib/python3.10/dist-packages (from requests) (3.10)\n",
            "Requirement already satisfied: urllib3<3,>=1.21.1 in /usr/local/lib/python3.10/dist-packages (from requests) (2.2.3)\n",
            "Requirement already satisfied: certifi>=2017.4.17 in /usr/local/lib/python3.10/dist-packages (from requests) (2024.8.30)\n",
            "Requirement already satisfied: numpy>=1.22.4 in /usr/local/lib/python3.10/dist-packages (from pandas) (1.26.4)\n",
            "Requirement already satisfied: python-dateutil>=2.8.2 in /usr/local/lib/python3.10/dist-packages (from pandas) (2.8.2)\n",
            "Requirement already satisfied: pytz>=2020.1 in /usr/local/lib/python3.10/dist-packages (from pandas) (2024.2)\n",
            "Requirement already satisfied: tzdata>=2022.7 in /usr/local/lib/python3.10/dist-packages (from pandas) (2024.2)\n",
            "Requirement already satisfied: six>=1.5 in /usr/local/lib/python3.10/dist-packages (from python-dateutil>=2.8.2->pandas) (1.16.0)\n"
          ]
        }
      ]
    },
    {
      "cell_type": "code",
      "execution_count": null,
      "metadata": {
        "id": "I5diRPWlFVDH",
        "colab": {
          "base_uri": "https://localhost:8080/"
        },
        "outputId": "fe1c0677-c83c-46fd-b3ba-cbc8c7b270d6"
      },
      "outputs": [
        {
          "output_type": "stream",
          "name": "stdout",
          "text": [
            "Error fetching page 48: HTTP 429\n",
            "Anime data saved successfully!\n"
          ]
        }
      ],
      "source": [
        "import requests\n",
        "import pandas as pd\n",
        "\n",
        "# Function to fetch anime data with pagination\n",
        "def fetch_anime_data_paged(limit=4500):\n",
        "    anime_list = []\n",
        "    current_page = 1\n",
        "    fetched_count = 0\n",
        "\n",
        "    while fetched_count < limit:\n",
        "        try:\n",
        "            url = f\"https://api.jikan.moe/v4/anime?page={current_page}\"\n",
        "            response = requests.get(url)\n",
        "\n",
        "            if response.status_code == 200:\n",
        "                data = response.json().get('data', [])\n",
        "                if not data:\n",
        "                    print(\"No more anime data available.\")\n",
        "                    break\n",
        "\n",
        "                for anime in data:\n",
        "                    anime_data = {\n",
        "                        'id': anime.get('mal_id'),\n",
        "                        'title': anime.get('title'),\n",
        "                        'genres': [genre['name'] for genre in anime.get('genres', [])],\n",
        "                        'popularity': anime.get('popularity'),\n",
        "                        'rating': anime.get('score'),\n",
        "                        'description': anime.get('synopsis'),\n",
        "                    }\n",
        "                    anime_list.append(anime_data)\n",
        "                    fetched_count += 1\n",
        "                    if fetched_count >= limit:\n",
        "                        break\n",
        "\n",
        "                current_page += 1\n",
        "            else:\n",
        "                print(f\"Error fetching page {current_page}: HTTP {response.status_code}\")\n",
        "                break\n",
        "        except Exception as e:\n",
        "            print(f\"Error fetching page {current_page}: {e}\")\n",
        "            break\n",
        "\n",
        "    return anime_list\n",
        "\n",
        "anime_data = fetch_anime_data_paged(limit=4500)\n",
        "\n",
        "anime_df = pd.DataFrame(anime_data)\n",
        "\n",
        "anime_df.to_csv('raw_anime_data_paged.csv', index=False)\n",
        "print(\"Anime data saved successfully!\")\n",
        "\n"
      ]
    },
    {
      "cell_type": "code",
      "source": [
        "print(anime_df.head())\n"
      ],
      "metadata": {
        "colab": {
          "base_uri": "https://localhost:8080/"
        },
        "id": "4JIHIuN5Jnsu",
        "outputId": "b597d139-ebaa-41df-9c8d-39a7bc41da4c"
      },
      "execution_count": null,
      "outputs": [
        {
          "output_type": "stream",
          "name": "stdout",
          "text": [
            "   id                            title  \\\n",
            "0   1                     Cowboy Bebop   \n",
            "1   5  Cowboy Bebop: Tengoku no Tobira   \n",
            "2   6                           Trigun   \n",
            "3   7               Witch Hunter Robin   \n",
            "4   8                   Bouken Ou Beet   \n",
            "\n",
            "                                   genres  popularity  rating  \\\n",
            "0         [Action, Award Winning, Sci-Fi]          43    8.75   \n",
            "1                        [Action, Sci-Fi]         633    8.38   \n",
            "2             [Action, Adventure, Sci-Fi]         259    8.22   \n",
            "3  [Action, Drama, Mystery, Supernatural]        1910    7.24   \n",
            "4            [Action, Adventure, Fantasy]        5502    6.93   \n",
            "\n",
            "                                         description  \n",
            "0  Crime is timeless. By the year 2071, humanity ...  \n",
            "1  Another day, another bounty—such is the life o...  \n",
            "2  Vash the Stampede is the man with a $$60,000,0...  \n",
            "3  Though hidden away from the general public, Wi...  \n",
            "4  It is the dark century and the people are suff...  \n"
          ]
        }
      ]
    },
    {
      "cell_type": "code",
      "source": [
        "from sklearn.preprocessing import MinMaxScaler\n",
        "\n",
        "anime_df = pd.read_csv('raw_anime_data_paged.csv')\n",
        "anime_df = anime_df.drop_duplicates(subset='title', keep='first')\n",
        "anime_df['rating'] = anime_df['rating'].fillna(anime_df['rating'].mean())\n",
        "anime_df['description'] = anime_df['description'].fillna(\"No description available.\")\n",
        "anime_df['genres'] = anime_df['genres'].apply(lambda x: [g.lower() for g in eval(x)] if pd.notna(x) else [])\n",
        "anime_df['popularity'] = anime_df['popularity'].fillna(anime_df['popularity'].max())\n",
        "threshold = anime_df[\"popularity\"].quantile(0.5)\n",
        "\n",
        "# Filter less popular anime\n",
        "less_popular_anime = anime_df[anime_df[\"popularity\"] > threshold]\n",
        "\n",
        "# Save the filtered dataset if needed\n",
        "less_popular_anime.to_csv('less_popular_anime.csv', index=False)\n",
        "print(\"Filtered less popular anime saved successfully!\")\n"
      ],
      "metadata": {
        "colab": {
          "base_uri": "https://localhost:8080/"
        },
        "id": "32LhF31RID2e",
        "outputId": "2dd77347-2034-43b7-acd4-0ade14955afd"
      },
      "execution_count": null,
      "outputs": [
        {
          "output_type": "stream",
          "name": "stdout",
          "text": [
            "Filtered less popular anime saved successfully!\n"
          ]
        }
      ]
    },
    {
      "cell_type": "code",
      "source": [],
      "metadata": {
        "id": "W1D0arssI8TS"
      },
      "execution_count": null,
      "outputs": []
    },
    {
      "cell_type": "code",
      "source": [
        "#feature engineering\n",
        "from sklearn.feature_extraction.text import TfidfVectorizer\n",
        "from sklearn.metrics.pairwise import cosine_similarity\n",
        "\n",
        "# TF-IDF for descriptions\n",
        "tfidf = TfidfVectorizer(stop_words='english')\n",
        "tfidf_matrix = tfidf.fit_transform(anime_df['description'])\n",
        "\n",
        "# Compute similarity\n",
        "similarity_matrix = cosine_similarity(tfidf_matrix)\n"
      ],
      "metadata": {
        "id": "U8w59iUCI4A2"
      },
      "execution_count": null,
      "outputs": []
    },
    {
      "cell_type": "code",
      "source": [
        "# Fetch anime details function\n",
        "def fetch_anime_details(title):\n",
        "    try:\n",
        "        url = f\"https://api.jikan.moe/v4/anime?q={title}&limit=1\"\n",
        "        response = requests.get(url)\n",
        "        if response.status_code == 200:\n",
        "            data = response.json().get('data', [])\n",
        "            if data:\n",
        "                anime = data[0]\n",
        "                return {\n",
        "                    'id': anime.get('mal_id'),\n",
        "                    'title': anime.get('title'),\n",
        "                    'genres': [genre['name'] for genre in anime.get('genres', [])],\n",
        "                    'description': anime.get('synopsis', \"\"),\n",
        "                    'rating': anime.get('score', 0)\n",
        "                }\n",
        "        else:\n",
        "            print(f\"Error fetching details for '{title}': HTTP {response.status_code}\")\n",
        "    except Exception as e:\n",
        "        print(f\"Error fetching details for '{title}': {e}\")\n",
        "    return None\n"
      ],
      "metadata": {
        "collapsed": true,
        "id": "D-G83bwsK0zL"
      },
      "execution_count": null,
      "outputs": []
    },
    {
      "cell_type": "code",
      "source": [
        "# Recommendation function with error handling and filtering of indices\n",
        "def recommend_less_popular(fetched_anime, num_recommendations=5):\n",
        "    # Add fetched anime descriptions to the TF-IDF vector space\n",
        "    fetched_descriptions = [anime['description'] for anime in fetched_anime if anime]\n",
        "\n",
        "    if not fetched_descriptions:\n",
        "        print(\"No valid descriptions available for recommendations.\")\n",
        "        return []\n",
        "\n",
        "    fetched_features = tfidf.transform(fetched_descriptions).mean(axis=0).A1\n",
        "    similarity_scores = cosine_similarity(fetched_features.reshape(1, -1), tfidf_matrix)\n",
        "\n",
        "    # Rank less popular anime by similarity\n",
        "    scores = [(i, similarity_scores[0, i]) for i in range(len(similarity_scores[0])) if i < len(less_popular_anime)]\n",
        "\n",
        "    # Debugging: Print the filtered scores\n",
        "    print(\"Filtered Scores (valid indices only):\", scores)\n",
        "\n",
        "    scores = sorted(scores, key=lambda x: x[1], reverse=True)\n",
        "\n",
        "    # Check if there are enough recommendations available\n",
        "    if len(scores) < num_recommendations:\n",
        "        print(f\"Only {len(scores)} less popular anime found for recommendations.\")\n",
        "        num_recommendations = len(scores)\n",
        "\n",
        "    # Return top recommendations\n",
        "    recommendations = []\n",
        "    for i in scores[:num_recommendations]:\n",
        "        try:\n",
        "            recommendations.append(less_popular_anime.iloc[i[0]]['title'])\n",
        "        except IndexError as e:\n",
        "            print(f\"IndexError while accessing less_popular_anime: {e}\")\n",
        "            print(f\"Current index being accessed: {i[0]}\")\n",
        "            continue  # Skip this index if there's an error\n",
        "\n",
        "    return recommendations"
      ],
      "metadata": {
        "id": "vCrWKkFuK85g"
      },
      "execution_count": null,
      "outputs": []
    },
    {
      "cell_type": "code",
      "source": [
        "if __name__ == \"__main__\":\n",
        "    import sys\n",
        "    import json\n",
        "\n",
        "    # Read the input titles from the parameters\n",
        "    user_anime_titles = json.loads(sys.argv[1])  # Expecting a JSON string\n",
        "\n",
        "    fetched_anime = []\n",
        "    for title in user_anime_titles:\n",
        "        title = title.strip()\n",
        "        anime_details = fetch_anime_details(title)\n",
        "        if anime_details:\n",
        "            fetched_anime.append(anime_details)\n",
        "\n",
        "    # Generate recommendations\n",
        "    recommendations = []\n",
        "    if fetched_anime:\n",
        "        recommendations = recommend_less_popular(fetched_anime, num_recommendations=5)\n",
        "\n",
        "    # Save recommendations to a CSV file\n",
        "    recommendations_df = pd.DataFrame(recommendations, columns=[\"Recommended Titles\"])\n",
        "    recommendations_df.to_csv('anime_recommendations.csv', index=False)\n",
        "\n",
        "    print(\"Recommendations saved successfully!\")"
      ],
      "metadata": {
        "colab": {
          "base_uri": "https://localhost:8080/"
        },
        "collapsed": true,
        "id": "W5YHhTVdQ6ao",
        "outputId": "68ac6135-9aa0-448c-e658-bb326da0ffb2"
      },
      "execution_count": 51,
      "outputs": [
        {
          "output_type": "stream",
          "name": "stdout",
          "text": [
            "Enter your favorite anime titles separated by commas: Jujutsu Kaisen\n",
            "Fetched Anime Details: [{'id': 40748, 'title': 'Jujutsu Kaisen', 'genres': ['Action', 'Award Winning', 'Supernatural'], 'description': 'Idly indulging in baseless paranormal activities with the Occult Club, high schooler Yuuji Itadori spends his days at either the clubroom or the hospital, where he visits his bedridden grandfather. However, this leisurely lifestyle soon takes a turn for the strange when he unknowingly encounters a cursed item. Triggering a chain of supernatural occurrences, Yuuji finds himself suddenly thrust into the world of Curses—dreadful beings formed from human malice and negativity—after swallowing the said item, revealed to be a finger belonging to the demon Sukuna Ryoumen, the King of Curses.\\n\\nYuuji experiences first-hand the threat these Curses pose to society as he discovers his own newfound powers. Introduced to the Tokyo Prefectural Jujutsu High School, he begins to walk down a path from which he cannot return—the path of a Jujutsu sorcerer.\\n\\n[Written by MAL Rewrite]', 'rating': 8.57}]\n",
            "Less Popular Anime DataFrame:         id                       title  \\\n",
            "4        8              Bouken Ou Beet   \n",
            "7       17  Hungry Heart: Wild Striker   \n",
            "13      23            Ring ni Kakero 1   \n",
            "19      29                      Zipang   \n",
            "36      55                 Arc the Lad   \n",
            "...    ...                         ...   \n",
            "1169  1279        Taiyou no Ko Esteban   \n",
            "1170  1280         Mamono Hunter Youko   \n",
            "1172  1283    Choujuu Densetsu Gestalt   \n",
            "1173  1284           Houma Hunter Lime   \n",
            "1174  1285           Soukihei MD Geist   \n",
            "\n",
            "                                            genres  popularity  rating  \\\n",
            "4                     [action, adventure, fantasy]        5502    6.93   \n",
            "7                  [comedy, slice of life, sports]        4547    7.54   \n",
            "13                                        [sports]        8603    6.35   \n",
            "19                         [action, drama, sci-fi]        4703    7.49   \n",
            "36    [action, adventure, fantasy, horror, sci-fi]        5345    6.49   \n",
            "...                                            ...         ...     ...   \n",
            "1169                           [adventure, sci-fi]        5728    7.75   \n",
            "1170       [comedy, fantasy, horror, supernatural]        5874    6.21   \n",
            "1172                  [adventure, comedy, fantasy]        8938    6.04   \n",
            "1173                             [comedy, fantasy]       10111    6.07   \n",
            "1174                              [action, sci-fi]        5268    5.33   \n",
            "\n",
            "                                            description  \n",
            "4     It is the dark century and the people are suff...  \n",
            "7     As the younger brother of Japanese soccer star...  \n",
            "13    In order to fulfill their dead father's wish, ...  \n",
            "19    A Ripple in Time Turns the Crucial Tide of WWI...  \n",
            "36    The story follows Elk, a bounty hunter in some...  \n",
            "...                                                 ...  \n",
            "1169  1532. Esteban, age 12 is a foundling from Barc...  \n",
            "1170  Yohko Mono is a regular girl making her way th...  \n",
            "1172  The story circulates around a mysterious and d...  \n",
            "1173  For centuries, the magic and human worlds have...  \n",
            "1174  In the distant future, mankind has colonized o...  \n",
            "\n",
            "[587 rows x 6 columns]\n",
            "Filtered Scores (valid indices only): [(0, 0.010855161004882041), (1, 0.014500446877338664), (2, 0.006930317142567003), (3, 0.0387285059235469), (4, 0.003565294361842178), (5, 0.008736014928572098), (6, 0.007621689851715227), (7, 0.019844290684845063), (8, 0.009436279650037996), (9, 0.035060209123488076), (10, 0.024331433427365667), (11, 0.023354222760189586), (12, 0.030768387087737832), (13, 0.011617584347384472), (14, 0.054217606986797826), (15, 0.009261190853846735), (16, 0.011434510768420413), (17, 0.029917528884153194), (18, 0.04606951397039901), (19, 0.012087996261898699), (20, 0.03997012170851974), (21, 0.06871989203877646), (22, 0.010302905029959283), (23, 0.013783094847867175), (24, 0.010387577768503107), (25, 0.004954194420204355), (26, 0.01302426643938696), (27, 0.008223654944423796), (28, 0.035515558172004594), (29, 0.047367464996116), (30, 0.005359369525257382), (31, 0.03809692477602756), (32, 0.026582308495229048), (33, 0.0), (34, 0.0063341668911871185), (35, 0.024973627920562562), (36, 0.020294415422203203), (37, 0.03693686786299136), (38, 0.008097338085407312), (39, 0.01961630232726197), (40, 0.027129235723337954), (41, 0.010356125139819958), (42, 0.024061362278927145), (43, 0.0398525882854289), (44, 0.032616279648343065), (45, 0.02816335785204433), (46, 0.042620897459516735), (47, 0.025791339618611603), (48, 0.002894913836418816), (49, 0.030965308372272772), (50, 0.008491307596468909), (51, 0.010546774493456118), (52, 0.022112401563755314), (53, 0.023871135362230622), (54, 0.02104103450670521), (55, 0.0032843855800541765), (56, 0.010776089328269907), (57, 0.008603310444641177), (58, 0.02880216075759647), (59, 0.022849903017947613), (60, 0.009404989749068482), (61, 0.0038831518475537443), (62, 0.0), (63, 0.0038342943297981847), (64, 0.010914676849789149), (65, 0.0056012923662115445), (66, 0.00370170009591627), (67, 0.003996361563948862), (68, 0.0036396190410692584), (69, 0.003987533680731418), (70, 0.0054658137608573866), (71, 0.004120306555396292), (72, 0.021833124675804883), (73, 0.024699556850513664), (74, 0.02682634035726523), (75, 0.003707897071604761), (76, 0.010745154433419522), (77, 0.02729479419284787), (78, 0.016634284483012372), (79, 0.009905983152085275), (80, 0.017597472554789294), (81, 0.03219867645755141), (82, 0.01755387003553024), (83, 0.007192021903249175), (84, 0.0119246583088651), (85, 0.003435345283766336), (86, 0.007540104061609142), (87, 0.020725283587542248), (88, 0.016474451939465336), (89, 0.013396773929430996), (90, 0.0015565766653863028), (91, 0.057290334475254126), (92, 0.004182214018004537), (93, 0.041725394098198386), (94, 0.0027616900499834963), (95, 0.018179664712650385), (96, 0.01631082695471019), (97, 0.009478338208592159), (98, 0.005916107745319256), (99, 0.029019427195984236), (100, 0.009250409363450469), (101, 0.005006644043350673), (102, 0.019190691587177535), (103, 0.012903277900630793), (104, 0.031205059038402407), (105, 0.0), (106, 0.03126127032997879), (107, 0.017918713895783474), (108, 0.008157545316363207), (109, 0.03110572824997397), (110, 0.026841007828391113), (111, 0.010315395039696864), (112, 0.015822036517635252), (113, 0.02038719371721472), (114, 0.03424321668811785), (115, 0.004717822968171865), (116, 0.004358584733577558), (117, 0.0), (118, 0.035119382670213334), (119, 0.0083864778484732), (120, 0.009620949427155159), (121, 0.012436602520524979), (122, 0.011593289668295401), (123, 0.03449113464099947), (124, 0.02150078106609183), (125, 0.01737708424760799), (126, 0.013992036901862596), (127, 0.007029093204585128), (128, 0.014458247631979565), (129, 0.003359085995954938), (130, 0.007707054407599296), (131, 0.009535475912320273), (132, 0.037472338857917384), (133, 0.0), (134, 0.007976577529759964), (135, 0.006632810295691424), (136, 0.012735361545953438), (137, 0.029120054805282805), (138, 0.015105798976794267), (139, 0.01022956062006793), (140, 0.01671660118090535), (141, 0.006733787827304728), (142, 0.07958820744443494), (143, 0.04392010408137914), (144, 0.006233849639926578), (145, 0.01436684366034192), (146, 0.01844052902977503), (147, 0.03174353032396536), (148, 0.016785284440608998), (149, 0.016583966587257665), (150, 0.016009678807613628), (151, 0.025885131832307267), (152, 0.03207783729446266), (153, 0.009361649084276181), (154, 0.021639612148233567), (155, 0.010518716858092058), (156, 0.057453180522596806), (157, 0.0), (158, 0.0), (159, 0.01908604625594451), (160, 0.015039676989395854), (161, 0.03367121942667873), (162, 0.004998122446556183), (163, 0.0038784781276142797), (164, 0.01577247703710913), (165, 0.004640786563081587), (166, 0.015440024674430756), (167, 0.0), (168, 0.0), (169, 0.0), (170, 0.0038590802622989), (171, 0.013497988173215462), (172, 0.04392841079521149), (173, 0.0058633747842411245), (174, 0.013696259370632756), (175, 0.036543117734214176), (176, 0.020240476578175383), (177, 0.011434229184275273), (178, 0.007469771476618531), (179, 0.025345137929839355), (180, 0.0036589305284293596), (181, 0.020313588083970616), (182, 0.01919673223834349), (183, 0.011767475995057036), (184, 0.013335297579129301), (185, 0.024264233792174576), (186, 0.010626164564991537), (187, 0.04233316660823639), (188, 0.0), (189, 0.01650475672590642), (190, 0.005319969426356485), (191, 0.0), (192, 0.005788044225740717), (193, 0.02286550391590199), (194, 0.0271560121971793), (195, 0.0), (196, 0.004711080982736666), (197, 0.025096067320942474), (198, 0.01237157543246209), (199, 0.0), (200, 0.022026705496639702), (201, 0.01956331017744344), (202, 0.0295780047252894), (203, 0.014514391774582589), (204, 0.012499582522144965), (205, 0.022099577313986908), (206, 0.0), (207, 0.029684610112597053), (208, 0.030619686128980278), (209, 0.0), (210, 0.0024709217590451176), (211, 0.01459072816471048), (212, 0.01814821804589692), (213, 0.01802410421963566), (214, 0.013708989120831766), (215, 0.014870782592494955), (216, 0.053739923946440525), (217, 0.02413819493758866), (218, 0.012236547279318616), (219, 0.011640289952413552), (220, 0.0), (221, 0.01320835664033609), (222, 0.025402852324925593), (223, 0.024993081265085287), (224, 0.019334857938397267), (225, 0.07575730893783578), (226, 0.02748269459247256), (227, 0.04654995663006458), (228, 0.03206848896208345), (229, 0.013253477818778352), (230, 0.0056884499222010975), (231, 0.0026025848549462616), (232, 0.024848055813316075), (233, 0.013765198343629003), (234, 0.005361208706607434), (235, 0.006887130311591771), (236, 0.0), (237, 0.0), (238, 0.004233713215403635), (239, 0.012403524192733544), (240, 0.025325806751062135), (241, 0.01219005481778455), (242, 0.026559867173726076), (243, 0.01577696106439578), (244, 0.01490365281076673), (245, 0.045411590999127144), (246, 0.03282692012434113), (247, 0.010507027614470137), (248, 0.023768121525467624), (249, 0.030934016385349462), (250, 0.031282747483605086), (251, 0.0), (252, 0.017002073472282005), (253, 0.012286275398045993), (254, 0.01187506015375625), (255, 0.046603731912199936), (256, 0.005041124517126466), (257, 0.01955342292044639), (258, 0.005396837702171314), (259, 0.011066062661270302), (260, 0.0200034117332277), (261, 0.020477663545884785), (262, 0.008542214230806177), (263, 0.007440426065441803), (264, 0.002514296936267252), (265, 0.02226696639097254), (266, 0.024535242824958017), (267, 0.004629951676017247), (268, 0.024991010100317998), (269, 0.006740412783646386), (270, 0.0), (271, 0.006514523037494894), (272, 0.020846241505516942), (273, 0.00643401376379598), (274, 0.018863630467786264), (275, 0.0251985315199883), (276, 0.0481702189785272), (277, 0.0), (278, 0.026786338180011263), (279, 0.0), (280, 0.0), (281, 0.01483968162655068), (282, 0.021423429885906495), (283, 0.002801911226588008), (284, 0.011376256490801921), (285, 0.021990666512307522), (286, 0.00853345102223288), (287, 0.04661731153249331), (288, 0.0), (289, 0.026293413624994502), (290, 0.024460736382134113), (291, 0.002790824940146203), (292, 0.0), (293, 0.014479761973242678), (294, 0.0), (295, 0.00976698416186541), (296, 0.011778551449749333), (297, 0.0), (298, 0.02362523226578113), (299, 0.006440433858664838), (300, 0.013542750138693493), (301, 0.024476595427877133), (302, 0.0), (303, 0.020288013929063653), (304, 0.0019694955171643343), (305, 0.013353029119954996), (306, 0.06126496608401046), (307, 0.005437044648688462), (308, 0.017767880664764382), (309, 0.0), (310, 0.018000981232589818), (311, 0.032444451511137756), (312, 0.03121652499295431), (313, 0.010293365619470196), (314, 0.011913706376891783), (315, 0.015977892666770025), (316, 0.012062064991614689), (317, 0.02281674802767299), (318, 0.0), (319, 0.0361613839198888), (320, 0.004816309901276698), (321, 0.029800738655493077), (322, 0.024928250453227933), (323, 0.014092780296989318), (324, 0.03017489288496277), (325, 0.005365644524356667), (326, 0.001797614353524561), (327, 0.01904538601800767), (328, 0.005089533133067659), (329, 0.08320001102984324), (330, 0.0), (331, 0.1481366887735291), (332, 0.009398815624217783), (333, 0.008568032904230506), (334, 0.05208647024418121), (335, 0.052917728425221605), (336, 0.04343113831121698), (337, 0.0), (338, 0.0), (339, 0.0), (340, 0.0), (341, 0.012788163331545064), (342, 0.022073706832960175), (343, 0.005090403144719146), (344, 0.07332817413532283), (345, 0.03233267069794636), (346, 0.016352655735108274), (347, 0.007396343031571532), (348, 0.017920008728775607), (349, 0.010092925952980721), (350, 0.0), (351, 0.02335583873388067), (352, 0.012863560540114385), (353, 0.010325125538320363), (354, 0.005500272620712657), (355, 0.006216002410301616), (356, 0.0044500086126814465), (357, 0.0243484624394635), (358, 0.012499424020693699), (359, 0.012106566940228984), (360, 0.02227122982468633), (361, 0.027778031747655425), (362, 0.028726759405057943), (363, 0.016128895062650882), (364, 0.01210156028479819), (365, 0.03495513500228781), (366, 0.05165931160272116), (367, 0.030325215719390303), (368, 0.011570275854158459), (369, 0.007840245144339238), (370, 0.0034351715250640073), (371, 0.04094910267449154), (372, 0.005504331090561358), (373, 0.0), (374, 0.010307175846064689), (375, 0.0), (376, 0.03475624193300054), (377, 0.0), (378, 0.022127978290888625), (379, 0.06068022817462601), (380, 0.014358979502941082), (381, 0.051765591376603276), (382, 0.01048169549158953), (383, 0.012581908369590597), (384, 0.013286933898055608), (385, 0.008368528077772322), (386, 0.021916893993889776), (387, 0.02363342664326808), (388, 0.006199881705255564), (389, 0.016409941159545884), (390, 0.020508474763579136), (391, 0.0), (392, 0.021987298362485915), (393, 0.014248929259761615), (394, 0.0), (395, 0.0), (396, 0.0070362601722218495), (397, 0.0033356550735362143), (398, 0.014416558172412487), (399, 0.029464281922623525), (400, 0.011177694807703257), (401, 0.0), (402, 0.0), (403, 0.015811566279560776), (404, 0.02431170319055551), (405, 0.011628744275396707), (406, 0.006520159773357272), (407, 0.0), (408, 0.025178664483096184), (409, 0.015356108929556408), (410, 0.009237849083557249), (411, 0.012439042708088733), (412, 0.009419578474449943), (413, 0.01939280384277471), (414, 0.014689096515212427), (415, 0.017533821570474985), (416, 0.0), (417, 0.007628309539588121), (418, 0.01768701733277534), (419, 0.007521071249391203), (420, 0.0), (421, 0.014019612798101964), (422, 0.006740175482044029), (423, 0.013798289184418427), (424, 0.017459090497059945), (425, 0.004937743923165446), (426, 0.013276050987951005), (427, 0.011941590881399858), (428, 0.024184677527567006), (429, 0.01480495740449583), (430, 0.00752713623200897), (431, 0.009725930850871346), (432, 0.023255676413881616), (433, 0.0), (434, 0.027632927817028495), (435, 0.012610694755084025), (436, 0.0), (437, 0.0), (438, 0.004570174544232424), (439, 0.014978807994980456), (440, 0.036119456523377516), (441, 0.03253513708250527), (442, 0.05232342263770385), (443, 0.02046774852413117), (444, 0.009755442184645836), (445, 0.0), (446, 0.0), (447, 0.01011545383325781), (448, 0.011159992271105677), (449, 0.016493779380284866), (450, 0.04322279839740967), (451, 0.03514677676492545), (452, 0.03984188776981572), (453, 0.006797948140187301), (454, 0.00838376669087011), (455, 0.008679429750824742), (456, 0.00854248021038585), (457, 0.02413819493758866), (458, 0.01078141892105274), (459, 0.06528204009029888), (460, 0.0), (461, 0.0), (462, 0.01902514294798273), (463, 0.0050975863649346705), (464, 0.013449152577044297), (465, 0.010275927319659275), (466, 0.009849154421128846), (467, 0.020792962909543182), (468, 0.015577757102890572), (469, 0.011484353971817204), (470, 0.027256157850753963), (471, 0.01668949190669827), (472, 0.0), (473, 0.0), (474, 0.0082289857911537), (475, 0.0054959833212607275), (476, 0.007587125072829675), (477, 0.0), (478, 0.0), (479, 0.022500980024748325), (480, 0.013772533694498358), (481, 0.013967448737603493), (482, 0.01432487478123539), (483, 0.013578337160452834), (484, 0.005457519037274965), (485, 0.0), (486, 0.010735687210091962), (487, 0.027301072948118975), (488, 0.007123729777275878), (489, 0.015699805469666), (490, 0.030067446804764322), (491, 0.0), (492, 0.010717193515231767), (493, 0.018102008045033702), (494, 0.002846224915393286), (495, 0.01099083720289941), (496, 0.014277632940614035), (497, 0.016058927069453215), (498, 0.0), (499, 0.02191567516607288), (500, 0.013514632099548764), (501, 0.05307499431088117), (502, 0.03794131708163051), (503, 0.009552715831519976), (504, 0.02188328751159805), (505, 0.032145425214374065), (506, 0.05023112634937443), (507, 0.01117807625588591), (508, 0.026862894921891037), (509, 0.02136593732963163), (510, 0.006752528502023975), (511, 0.004657199054136316), (512, 0.02203050676844067), (513, 0.018349020379574147), (514, 0.020411630924821796), (515, 0.021860744780444544), (516, 0.007476471778811591), (517, 0.022347455617114202), (518, 0.0), (519, 0.0), (520, 0.012211155937261572), (521, 0.005143402000216553), (522, 0.0), (523, 0.021368545618982007), (524, 0.0), (525, 0.006191255798688417), (526, 0.0), (527, 0.01419623383226433), (528, 0.001981346684448469), (529, 0.011398536335478014), (530, 0.03318016566024297), (531, 0.018180536600108835), (532, 0.02412134570805232), (533, 0.03132858789485147), (534, 0.017777980992261973), (535, 0.031266431378721565), (536, 0.01096819977088351), (537, 0.021122550277778755), (538, 0.010336846024771307), (539, 0.02635138809212404), (540, 0.04473126361234944), (541, 0.031032538402793127), (542, 0.01321703205780437), (543, 0.009363252028046184), (544, 0.0), (545, 0.0067461179486658146), (546, 0.055648164370153505), (547, 0.023210256239221204), (548, 0.006642893342185029), (549, 0.007490696981965692), (550, 0.04361245730576324), (551, 0.0), (552, 0.007638832060894654), (553, 0.0), (554, 0.014598519470430994), (555, 0.0), (556, 0.006085682814699887), (557, 0.009356252257432841), (558, 0.03642004677391715), (559, 0.02058169857118293), (560, 0.043254202608056486), (561, 0.0020034131134910324), (562, 0.028463261645560043), (563, 0.011911821012058284), (564, 0.0), (565, 0.0), (566, 0.01891076184951864), (567, 0.02572989937618364), (568, 0.03318062820694336), (569, 0.0), (570, 0.006855938280072629), (571, 0.009819122467007096), (572, 0.01257265382157267), (573, 0.006020577249289231), (574, 0.01521966853685893), (575, 0.03522181978831751), (576, 0.023867500371444292), (577, 0.014513523033365438), (578, 0.025980537391065695), (579, 0.0), (580, 0.011357697963567066), (581, 0.00882582005422441), (582, 0.005326855838522304), (583, 0.023748903202926733), (584, 0.0), (585, 0.00746111907274813), (586, 0.06049809844875164)]\n",
            "\n",
            "Recommended lesser-known anime:\n",
            "- Kikou Senki Dragonar\n",
            "- Gunparade Orchestra\n",
            "- .hack//Gift\n",
            "- Hikaru no Go: Hokuto Hai e no Michi\n",
            "- Ninkuu\n"
          ]
        }
      ]
    }
  ]
}